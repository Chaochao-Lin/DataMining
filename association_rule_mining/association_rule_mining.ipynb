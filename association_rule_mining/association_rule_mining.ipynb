{
 "cells": [
  {
   "cell_type": "markdown",
   "id": "73c54b5a",
   "metadata": {},
   "source": [
    "# 互评作业2：网页浏览行为关联规则挖掘\n",
    "# 1120191287 林超超\n",
    "## 1. 问题描述\n",
    "分析用户在网站上的浏览行为数据，挖掘潜在的跳转规律，为网站提供优化导航结构的建议。\n",
    "\n",
    "## 2. 数据集\n",
    "UCI ML Repository - Anonymous Microsoft Web Data\n",
    "http://archive.ics.uci.edu/ml/datasets/Anonymous+Microsoft+Web+Data\n",
    "\n",
    "## 3. 关联规则挖掘\n",
    "### 3.1 数据预处理\n",
    "·清洗数据\n",
    "\n",
    "·处理缺失值\n",
    "\n",
    "·提取用户浏览记录\n",
    "\n",
    "### 3.2  数据探索性分析\n",
    "·分析最常被访问的页面、页面访问量分布等\n",
    "\n",
    "### 3.3 关联规则挖掘\n",
    "·使用Apriori算法或FP-growth算法，根据用户浏览记录计算频繁项集和关联规则。\n",
    "\n",
    "### 3.4 结果评估\n",
    "·计算关联规则的支持度、置信度和提升度，得出强关联规则。\n",
    "\n",
    "### 3.5 结果分析与应用\n",
    "·分析得到的关联规则，为网站提供导航结构优化建议，以提升用户体验。"
   ]
  },
  {
   "cell_type": "markdown",
   "id": "34f7537a",
   "metadata": {},
   "source": [
    "## 数据集 UCI ML Repository - Anonymous Microsoft Web Data"
   ]
  },
  {
   "cell_type": "code",
   "execution_count": 28,
   "id": "d84a22dc",
   "metadata": {},
   "outputs": [],
   "source": [
    "import pandas as pd\n",
    "from collections import Counter\n",
    "import seaborn as sns\n",
    "import matplotlib.pyplot as plt\n"
   ]
  },
  {
   "cell_type": "markdown",
   "id": "000f98fb",
   "metadata": {},
   "source": [
    "### 1. 数据预处理\n",
    "#### 1.1 提取用户浏览记录和属性数据"
   ]
  },
  {
   "cell_type": "code",
   "execution_count": 8,
   "id": "ebfb2a48",
   "metadata": {},
   "outputs": [
    {
     "data": {
      "text/html": [
       "<div>\n",
       "<style scoped>\n",
       "    .dataframe tbody tr th:only-of-type {\n",
       "        vertical-align: middle;\n",
       "    }\n",
       "\n",
       "    .dataframe tbody tr th {\n",
       "        vertical-align: top;\n",
       "    }\n",
       "\n",
       "    .dataframe thead th {\n",
       "        text-align: right;\n",
       "    }\n",
       "</style>\n",
       "<table border=\"1\" class=\"dataframe\">\n",
       "  <thead>\n",
       "    <tr style=\"text-align: right;\">\n",
       "      <th></th>\n",
       "      <th>marks</th>\n",
       "      <th>ID</th>\n",
       "      <th>ignored</th>\n",
       "    </tr>\n",
       "  </thead>\n",
       "  <tbody>\n",
       "    <tr>\n",
       "      <th>0</th>\n",
       "      <td>C</td>\n",
       "      <td>10001</td>\n",
       "      <td>10001</td>\n",
       "    </tr>\n",
       "    <tr>\n",
       "      <th>1</th>\n",
       "      <td>V</td>\n",
       "      <td>1000</td>\n",
       "      <td>1</td>\n",
       "    </tr>\n",
       "    <tr>\n",
       "      <th>2</th>\n",
       "      <td>V</td>\n",
       "      <td>1001</td>\n",
       "      <td>1</td>\n",
       "    </tr>\n",
       "    <tr>\n",
       "      <th>3</th>\n",
       "      <td>V</td>\n",
       "      <td>1002</td>\n",
       "      <td>1</td>\n",
       "    </tr>\n",
       "    <tr>\n",
       "      <th>4</th>\n",
       "      <td>C</td>\n",
       "      <td>10002</td>\n",
       "      <td>10002</td>\n",
       "    </tr>\n",
       "  </tbody>\n",
       "</table>\n",
       "</div>"
      ],
      "text/plain": [
       "  marks     ID  ignored\n",
       "0     C  10001    10001\n",
       "1     V   1000        1\n",
       "2     V   1001        1\n",
       "3     V   1002        1\n",
       "4     C  10002    10002"
      ]
     },
     "execution_count": 8,
     "metadata": {},
     "output_type": "execute_result"
    }
   ],
   "source": [
    "df_user = pd.read_csv(\"./anonymous/anonymous-msweb.data\",header=None,skiprows=range(0,301), names=['marks', 'ID','ignored'])\n",
    "df_user.head()"
   ]
  },
  {
   "cell_type": "code",
   "execution_count": 3,
   "id": "f784f5b8",
   "metadata": {},
   "outputs": [
    {
     "data": {
      "text/html": [
       "<div>\n",
       "<style scoped>\n",
       "    .dataframe tbody tr th:only-of-type {\n",
       "        vertical-align: middle;\n",
       "    }\n",
       "\n",
       "    .dataframe tbody tr th {\n",
       "        vertical-align: top;\n",
       "    }\n",
       "\n",
       "    .dataframe thead th {\n",
       "        text-align: right;\n",
       "    }\n",
       "</style>\n",
       "<table border=\"1\" class=\"dataframe\">\n",
       "  <thead>\n",
       "    <tr style=\"text-align: right;\">\n",
       "      <th></th>\n",
       "      <th>marks</th>\n",
       "      <th>ID</th>\n",
       "      <th>ignored</th>\n",
       "      <th>title</th>\n",
       "      <th>url</th>\n",
       "    </tr>\n",
       "  </thead>\n",
       "  <tbody>\n",
       "    <tr>\n",
       "      <th>0</th>\n",
       "      <td>A</td>\n",
       "      <td>1287</td>\n",
       "      <td>1</td>\n",
       "      <td>International AutoRoute</td>\n",
       "      <td>/autoroute</td>\n",
       "    </tr>\n",
       "    <tr>\n",
       "      <th>1</th>\n",
       "      <td>A</td>\n",
       "      <td>1288</td>\n",
       "      <td>1</td>\n",
       "      <td>library</td>\n",
       "      <td>/library</td>\n",
       "    </tr>\n",
       "    <tr>\n",
       "      <th>2</th>\n",
       "      <td>A</td>\n",
       "      <td>1289</td>\n",
       "      <td>1</td>\n",
       "      <td>Master Chef Product Information</td>\n",
       "      <td>/masterchef</td>\n",
       "    </tr>\n",
       "    <tr>\n",
       "      <th>3</th>\n",
       "      <td>A</td>\n",
       "      <td>1297</td>\n",
       "      <td>1</td>\n",
       "      <td>Central America</td>\n",
       "      <td>/centroam</td>\n",
       "    </tr>\n",
       "    <tr>\n",
       "      <th>4</th>\n",
       "      <td>A</td>\n",
       "      <td>1215</td>\n",
       "      <td>1</td>\n",
       "      <td>For Developers Only Info</td>\n",
       "      <td>/developer</td>\n",
       "    </tr>\n",
       "  </tbody>\n",
       "</table>\n",
       "</div>"
      ],
      "text/plain": [
       "  marks    ID  ignored                            title          url\n",
       "0     A  1287        1          International AutoRoute   /autoroute\n",
       "1     A  1288        1                          library     /library\n",
       "2     A  1289        1  Master Chef Product Information  /masterchef\n",
       "3     A  1297        1                  Central America    /centroam\n",
       "4     A  1215        1         For Developers Only Info   /developer"
      ]
     },
     "execution_count": 3,
     "metadata": {},
     "output_type": "execute_result"
    }
   ],
   "source": [
    "df_attribute = pd.read_csv('./anonymous/anonymous-msweb.data',header=None,skiprows=range(0,7),nrows=293, names=['marks', 'ID','ignored','title','url'])\n",
    "df_attribute.head()"
   ]
  },
  {
   "cell_type": "markdown",
   "id": "842030cf",
   "metadata": {},
   "source": [
    "#### 1.2 查看缺失值"
   ]
  },
  {
   "cell_type": "code",
   "execution_count": 4,
   "id": "aa66a4b7",
   "metadata": {},
   "outputs": [
    {
     "name": "stdout",
     "output_type": "stream",
     "text": [
      "<class 'pandas.core.frame.DataFrame'>\n",
      "RangeIndex: 131365 entries, 0 to 131364\n",
      "Data columns (total 3 columns):\n",
      " #   Column   Non-Null Count   Dtype \n",
      "---  ------   --------------   ----- \n",
      " 0   marks    131365 non-null  object\n",
      " 1   ID       131365 non-null  int64 \n",
      " 2   ignored  131365 non-null  int64 \n",
      "dtypes: int64(2), object(1)\n",
      "memory usage: 3.0+ MB\n"
     ]
    }
   ],
   "source": [
    "df_user.info()"
   ]
  },
  {
   "cell_type": "code",
   "execution_count": 5,
   "id": "9e2736b0",
   "metadata": {},
   "outputs": [
    {
     "name": "stdout",
     "output_type": "stream",
     "text": [
      "<class 'pandas.core.frame.DataFrame'>\n",
      "RangeIndex: 293 entries, 0 to 292\n",
      "Data columns (total 5 columns):\n",
      " #   Column   Non-Null Count  Dtype \n",
      "---  ------   --------------  ----- \n",
      " 0   marks    293 non-null    object\n",
      " 1   ID       293 non-null    int64 \n",
      " 2   ignored  293 non-null    int64 \n",
      " 3   title    293 non-null    object\n",
      " 4   url      293 non-null    object\n",
      "dtypes: int64(2), object(3)\n",
      "memory usage: 11.6+ KB\n"
     ]
    }
   ],
   "source": [
    "df_attribute.info()"
   ]
  },
  {
   "cell_type": "markdown",
   "id": "fc4b54df",
   "metadata": {},
   "source": [
    "没有缺失值不做处理"
   ]
  },
  {
   "cell_type": "markdown",
   "id": "0382116e",
   "metadata": {},
   "source": [
    "#### 1.3 数据清洗\n",
    "对于用户浏览记录：\n",
    "\n",
    "marks列是标记，C表示案例行，ID列表示用户的案例ID号；V表示投票行，则ID列表示用户访问过的网址的属性ID\n",
    "\n",
    "ignored列可以被忽略\n",
    "\n",
    "因此将该表处理为用户列user，和用户访问过的网址列visit"
   ]
  },
  {
   "cell_type": "code",
   "execution_count": 39,
   "id": "0ce88505",
   "metadata": {},
   "outputs": [
    {
     "data": {
      "text/html": [
       "<div>\n",
       "<style scoped>\n",
       "    .dataframe tbody tr th:only-of-type {\n",
       "        vertical-align: middle;\n",
       "    }\n",
       "\n",
       "    .dataframe tbody tr th {\n",
       "        vertical-align: top;\n",
       "    }\n",
       "\n",
       "    .dataframe thead th {\n",
       "        text-align: right;\n",
       "    }\n",
       "</style>\n",
       "<table border=\"1\" class=\"dataframe\">\n",
       "  <thead>\n",
       "    <tr style=\"text-align: right;\">\n",
       "      <th></th>\n",
       "      <th>user</th>\n",
       "      <th>visit</th>\n",
       "    </tr>\n",
       "  </thead>\n",
       "  <tbody>\n",
       "    <tr>\n",
       "      <th>0</th>\n",
       "      <td>10001</td>\n",
       "      <td>[1000, 1001, 1002]</td>\n",
       "    </tr>\n",
       "    <tr>\n",
       "      <th>1</th>\n",
       "      <td>10002</td>\n",
       "      <td>[1001, 1003]</td>\n",
       "    </tr>\n",
       "    <tr>\n",
       "      <th>2</th>\n",
       "      <td>10003</td>\n",
       "      <td>[1001, 1003, 1004]</td>\n",
       "    </tr>\n",
       "    <tr>\n",
       "      <th>3</th>\n",
       "      <td>10004</td>\n",
       "      <td>[1005]</td>\n",
       "    </tr>\n",
       "    <tr>\n",
       "      <th>4</th>\n",
       "      <td>10005</td>\n",
       "      <td>[1006]</td>\n",
       "    </tr>\n",
       "  </tbody>\n",
       "</table>\n",
       "</div>"
      ],
      "text/plain": [
       "    user               visit\n",
       "0  10001  [1000, 1001, 1002]\n",
       "1  10002        [1001, 1003]\n",
       "2  10003  [1001, 1003, 1004]\n",
       "3  10004              [1005]\n",
       "4  10005              [1006]"
      ]
     },
     "execution_count": 39,
     "metadata": {},
     "output_type": "execute_result"
    }
   ],
   "source": [
    "users = []\n",
    "visits = []\n",
    "v = None\n",
    "for i, row in df_user.iterrows():\n",
    "    if row['marks']=='C':\n",
    "        if v!= None:\n",
    "            visits.append(v)\n",
    "        users.append(row['ID'])\n",
    "        v=[]\n",
    "    else:\n",
    "        v.append(row['ID'])\n",
    "visits.append(v)\n",
    "df_user_visit = pd.DataFrame({\"user\":users,\"visit\":visits})\n",
    "df_user_visit.head()"
   ]
  },
  {
   "cell_type": "markdown",
   "id": "165c5040",
   "metadata": {},
   "source": [
    "对于属性数据：\n",
    "\n",
    "marks列是标记，这里全部为A，是无用列\n",
    "\n",
    "ignored列可以被忽略\n",
    "\n",
    "删除无用列marks和ignored"
   ]
  },
  {
   "cell_type": "code",
   "execution_count": 7,
   "id": "72b95eef",
   "metadata": {},
   "outputs": [
    {
     "data": {
      "text/html": [
       "<div>\n",
       "<style scoped>\n",
       "    .dataframe tbody tr th:only-of-type {\n",
       "        vertical-align: middle;\n",
       "    }\n",
       "\n",
       "    .dataframe tbody tr th {\n",
       "        vertical-align: top;\n",
       "    }\n",
       "\n",
       "    .dataframe thead th {\n",
       "        text-align: right;\n",
       "    }\n",
       "</style>\n",
       "<table border=\"1\" class=\"dataframe\">\n",
       "  <thead>\n",
       "    <tr style=\"text-align: right;\">\n",
       "      <th></th>\n",
       "      <th>ID</th>\n",
       "      <th>title</th>\n",
       "      <th>url</th>\n",
       "    </tr>\n",
       "  </thead>\n",
       "  <tbody>\n",
       "    <tr>\n",
       "      <th>0</th>\n",
       "      <td>1287</td>\n",
       "      <td>International AutoRoute</td>\n",
       "      <td>/autoroute</td>\n",
       "    </tr>\n",
       "    <tr>\n",
       "      <th>1</th>\n",
       "      <td>1288</td>\n",
       "      <td>library</td>\n",
       "      <td>/library</td>\n",
       "    </tr>\n",
       "    <tr>\n",
       "      <th>2</th>\n",
       "      <td>1289</td>\n",
       "      <td>Master Chef Product Information</td>\n",
       "      <td>/masterchef</td>\n",
       "    </tr>\n",
       "    <tr>\n",
       "      <th>3</th>\n",
       "      <td>1297</td>\n",
       "      <td>Central America</td>\n",
       "      <td>/centroam</td>\n",
       "    </tr>\n",
       "    <tr>\n",
       "      <th>4</th>\n",
       "      <td>1215</td>\n",
       "      <td>For Developers Only Info</td>\n",
       "      <td>/developer</td>\n",
       "    </tr>\n",
       "  </tbody>\n",
       "</table>\n",
       "</div>"
      ],
      "text/plain": [
       "     ID                            title          url\n",
       "0  1287          International AutoRoute   /autoroute\n",
       "1  1288                          library     /library\n",
       "2  1289  Master Chef Product Information  /masterchef\n",
       "3  1297                  Central America    /centroam\n",
       "4  1215         For Developers Only Info   /developer"
      ]
     },
     "execution_count": 7,
     "metadata": {},
     "output_type": "execute_result"
    }
   ],
   "source": [
    "del df_attribute['marks'], df_attribute['ignored']\n",
    "df_attribute.head()"
   ]
  },
  {
   "cell_type": "markdown",
   "id": "8de04754",
   "metadata": {},
   "source": [
    "### 2. 探索性分析\n",
    "#### 2.1 分析页面访问量分布\n",
    "统计每个页面被访问的数量"
   ]
  },
  {
   "cell_type": "code",
   "execution_count": 33,
   "id": "41edbb82",
   "metadata": {},
   "outputs": [
    {
     "data": {
      "text/html": [
       "<div>\n",
       "<style scoped>\n",
       "    .dataframe tbody tr th:only-of-type {\n",
       "        vertical-align: middle;\n",
       "    }\n",
       "\n",
       "    .dataframe tbody tr th {\n",
       "        vertical-align: top;\n",
       "    }\n",
       "\n",
       "    .dataframe thead th {\n",
       "        text-align: right;\n",
       "    }\n",
       "</style>\n",
       "<table border=\"1\" class=\"dataframe\">\n",
       "  <thead>\n",
       "    <tr style=\"text-align: right;\">\n",
       "      <th></th>\n",
       "      <th>ID</th>\n",
       "      <th>times</th>\n",
       "    </tr>\n",
       "  </thead>\n",
       "  <tbody>\n",
       "    <tr>\n",
       "      <th>0</th>\n",
       "      <td>1000</td>\n",
       "      <td>912</td>\n",
       "    </tr>\n",
       "    <tr>\n",
       "      <th>1</th>\n",
       "      <td>1001</td>\n",
       "      <td>4451</td>\n",
       "    </tr>\n",
       "    <tr>\n",
       "      <th>2</th>\n",
       "      <td>1002</td>\n",
       "      <td>749</td>\n",
       "    </tr>\n",
       "    <tr>\n",
       "      <th>3</th>\n",
       "      <td>1003</td>\n",
       "      <td>2968</td>\n",
       "    </tr>\n",
       "    <tr>\n",
       "      <th>4</th>\n",
       "      <td>1004</td>\n",
       "      <td>8463</td>\n",
       "    </tr>\n",
       "  </tbody>\n",
       "</table>\n",
       "</div>"
      ],
      "text/plain": [
       "     ID  times\n",
       "0  1000    912\n",
       "1  1001   4451\n",
       "2  1002    749\n",
       "3  1003   2968\n",
       "4  1004   8463"
      ]
     },
     "execution_count": 33,
     "metadata": {},
     "output_type": "execute_result"
    }
   ],
   "source": [
    "times = Counter(df_user[df_user['marks'] == 'V']['ID'])\n",
    "df_times = pd.DataFrame(times.items(), columns=['ID','times'])\n",
    "df_times.head()"
   ]
  },
  {
   "cell_type": "markdown",
   "id": "a1fda24f",
   "metadata": {},
   "source": [
    "计算所有页面访问量的数值属性，给出5数概括"
   ]
  },
  {
   "cell_type": "code",
   "execution_count": 34,
   "id": "79862f96",
   "metadata": {},
   "outputs": [
    {
     "data": {
      "text/plain": [
       "count      285.000000\n",
       "mean       346.154386\n",
       "std       1171.189066\n",
       "min          1.000000\n",
       "25%         10.000000\n",
       "50%         46.000000\n",
       "75%        187.000000\n",
       "max      10836.000000\n",
       "Name: times, dtype: float64"
      ]
     },
     "execution_count": 34,
     "metadata": {},
     "output_type": "execute_result"
    }
   ],
   "source": [
    "df_times['times'].describe()"
   ]
  },
  {
   "cell_type": "markdown",
   "id": "6bcf86bc",
   "metadata": {},
   "source": [
    "绘制网页访问量柱状图"
   ]
  },
  {
   "cell_type": "code",
   "execution_count": 35,
   "id": "9abd4071",
   "metadata": {},
   "outputs": [
    {
     "data": {
      "image/png": "[encoded data removed]",
      "text/plain": [
       "<Figure size 432x288 with 1 Axes>"
      ]
     },
     "metadata": {
      "needs_background": "light"
     },
     "output_type": "display_data"
    }
   ],
   "source": [
    "plt.title('visited times')    \n",
    "plt.bar(df_times['ID'], df_times['times'])\n",
    "plt.show()"
   ]
  },
  {
   "cell_type": "markdown",
   "id": "175179b9",
   "metadata": {},
   "source": [
    "可见网页访问主要集中在属性ID为1000-1050之间的网页"
   ]
  },
  {
   "cell_type": "markdown",
   "id": "c44a0b4d",
   "metadata": {},
   "source": [
    "#### 2.2 分析最常被访问的页面"
   ]
  },
  {
   "cell_type": "code",
   "execution_count": 36,
   "id": "779749b4",
   "metadata": {},
   "outputs": [
    {
     "data": {
      "text/html": [
       "<div>\n",
       "<style scoped>\n",
       "    .dataframe tbody tr th:only-of-type {\n",
       "        vertical-align: middle;\n",
       "    }\n",
       "\n",
       "    .dataframe tbody tr th {\n",
       "        vertical-align: top;\n",
       "    }\n",
       "\n",
       "    .dataframe thead th {\n",
       "        text-align: right;\n",
       "    }\n",
       "</style>\n",
       "<table border=\"1\" class=\"dataframe\">\n",
       "  <thead>\n",
       "    <tr style=\"text-align: right;\">\n",
       "      <th></th>\n",
       "      <th>ID</th>\n",
       "      <th>times</th>\n",
       "      <th>title</th>\n",
       "      <th>url</th>\n",
       "    </tr>\n",
       "  </thead>\n",
       "  <tbody>\n",
       "    <tr>\n",
       "      <th>0</th>\n",
       "      <td>1008</td>\n",
       "      <td>10836</td>\n",
       "      <td>Free Downloads</td>\n",
       "      <td>/msdownload</td>\n",
       "    </tr>\n",
       "    <tr>\n",
       "      <th>1</th>\n",
       "      <td>1034</td>\n",
       "      <td>9383</td>\n",
       "      <td>Internet Explorer</td>\n",
       "      <td>/ie</td>\n",
       "    </tr>\n",
       "    <tr>\n",
       "      <th>2</th>\n",
       "      <td>1004</td>\n",
       "      <td>8463</td>\n",
       "      <td>Microsoft.com Search</td>\n",
       "      <td>/search</td>\n",
       "    </tr>\n",
       "    <tr>\n",
       "      <th>3</th>\n",
       "      <td>1018</td>\n",
       "      <td>5330</td>\n",
       "      <td>isapi</td>\n",
       "      <td>/isapi</td>\n",
       "    </tr>\n",
       "    <tr>\n",
       "      <th>4</th>\n",
       "      <td>1017</td>\n",
       "      <td>5108</td>\n",
       "      <td>Products</td>\n",
       "      <td>/products</td>\n",
       "    </tr>\n",
       "  </tbody>\n",
       "</table>\n",
       "</div>"
      ],
      "text/plain": [
       "     ID  times                 title          url\n",
       "0  1008  10836        Free Downloads  /msdownload\n",
       "1  1034   9383     Internet Explorer          /ie\n",
       "2  1004   8463  Microsoft.com Search      /search\n",
       "3  1018   5330                 isapi       /isapi\n",
       "4  1017   5108             Products     /products"
      ]
     },
     "execution_count": 36,
     "metadata": {},
     "output_type": "execute_result"
    }
   ],
   "source": [
    "df_times.sort_values(\"times\", inplace=True, ascending=[False])\n",
    "df_times=pd.merge(df_times, df_attribute, on=\"ID\")\n",
    "df_times.head()"
   ]
  },
  {
   "cell_type": "markdown",
   "id": "37e16419",
   "metadata": {},
   "source": [
    "可见访问最多的是Free Downloads网页，被浏览了10836次\n",
    "\n",
    "其次是Internet Explorer、Microsoft.com Search、isapi、Products"
   ]
  },
  {
   "cell_type": "markdown",
   "id": "031b8004",
   "metadata": {},
   "source": [
    "### 3. 关联规则挖掘\n",
    "#### 3.1 Apriori算法\n",
    "Apriori原理：如果一个项集是频繁的，那么它的子项集一定也是频繁的；如果一个项集不是频繁的，那么它的父项集也一定不是频繁的。"
   ]
  },
  {
   "cell_type": "code",
   "execution_count": 37,
   "id": "dccfe7ef",
   "metadata": {},
   "outputs": [],
   "source": [
    "'''\n",
    "    1、发现频繁项集\n",
    "'''\n",
    "# 生成单一元素的项集\n",
    "def create_C1():\n",
    "    C1 = set()\n",
    "    for transaction in dataSet:\n",
    "        for item in transaction:\n",
    "            C1.add(frozenset([item])) # 每条交易记录中的单个商品\n",
    "    return C1 # {frozenset({'l1'}), frozenset({'l2'}), frozenset({'l3'}), frozenset({'l4'}), frozenset({'l5'})}\n",
    "\n",
    "# 频繁项集组合\n",
    "def create_Ck(Lk, k):\n",
    "    \"\"\"\n",
    "\n",
    "    :param Lk: 包含了k-1个元素的频繁项集\n",
    "    :param k:\n",
    "    :return: Ck: 包含了k个元素的频繁项集\n",
    "    \"\"\"\n",
    "    Ck = set()\n",
    "    len_Lk = len(Lk)\n",
    "    list_Lk = list(Lk)\n",
    "    for i in range(len_Lk):\n",
    "        for j in range(1, len_Lk):\n",
    "            L1 = list(list_Lk[i])\n",
    "            L2 = list(list_Lk[j])\n",
    "            L1.sort()\n",
    "            L2.sort()\n",
    "            # 前k-2项相同时，将两个集合合并\n",
    "            if L1[0:k-2] == L2[0:k-2]:\n",
    "                Ck_item = list_Lk[i] | list_Lk[j]\n",
    "                if is_apriori(Ck_item, Lk):\n",
    "                    Ck.add(Ck_item)\n",
    "    return Ck\n",
    "\n",
    "# 判断是否满足Apriori原理\n",
    "def is_apriori(Ck_item, Lk):\n",
    "    \"\"\"\n",
    "\n",
    "    :param Ck: 包含了k个元素的可能频繁项集\n",
    "    :param Lk: 包含了k-1个元素的频繁项集\n",
    "    :return: bool, 是否满足Apriori原理\n",
    "    \"\"\"\n",
    "    for item in Ck_item:\n",
    "        sub_Ck = Ck_item - frozenset([item])\n",
    "        if sub_Ck not in Lk:\n",
    "            return False\n",
    "    return True\n",
    "\n",
    "def generate_Lk_by_Ck(Ck, minSupport=0.5):\n",
    "    Lk = set()\n",
    "    item_count = {}\n",
    "\n",
    "    for t in dataSet:\n",
    "        for item in Ck:\n",
    "            if item.issubset(t):\n",
    "                if item not in item_count:\n",
    "                    item_count[item] = 1\n",
    "                else:\n",
    "                    item_count[item] += 1\n",
    "    # 计算支持度\n",
    "    for item in item_count:\n",
    "        support = item_count[item] / float(len(dataSet))\n",
    "        if support >= minSupport:\n",
    "            Lk.add(item)\n",
    "            supportData[item] = support\n",
    "\n",
    "    return Lk\n",
    "\n",
    "def generate_L(minSupport):\n",
    "    C1 = create_C1()\n",
    "    L1 = generate_Lk_by_Ck(C1, minSupport)\n",
    "\n",
    "    L = []\n",
    "    Lksub1 = L1.copy()\n",
    "    L.append(Lksub1)\n",
    "    for lk in Lksub1:\n",
    "        freq_itemsets.append((lk, supportData[lk]))\n",
    "    i = 2\n",
    "\n",
    "    while True:\n",
    "        Ci = create_Ck(Lksub1, i)\n",
    "        Li = generate_Lk_by_Ck(Ci, minSupport)\n",
    "        Lksub1 = Li.copy()\n",
    "        if len(Lksub1) == 0:\n",
    "            break\n",
    "        L.append(Lksub1)\n",
    "        for lk in Lksub1:\n",
    "            freq_itemsets.append((lk, supportData[lk]))\n",
    "        i += 1\n",
    "\n",
    "    return L, freq_itemsets\n",
    "\n",
    "\n",
    "'''\n",
    "    2、找出关联规则\n",
    "'''\n",
    "def generate_rules(L, minSupport):\n",
    "    big_rule_list = []\n",
    "    sub_set_list = []\n",
    "    for i in range(0, len(L)):\n",
    "        for freq_set in L[i]:\n",
    "            for sub_set in sub_set_list:\n",
    "                if sub_set.issubset(freq_set):\n",
    "                    support = supportData[freq_set] / supportData[freq_set - sub_set]\n",
    "                    big_rule = (freq_set - sub_set, sub_set, support)\n",
    "                    if support >= minSupport and big_rule not in big_rule_list:\n",
    "                        big_rule_list.append(big_rule)\n",
    "            sub_set_list.append(freq_set)\n",
    "    return big_rule_list"
   ]
  },
  {
   "cell_type": "code",
   "execution_count": 41,
   "id": "1923e805",
   "metadata": {},
   "outputs": [],
   "source": [
    "supportData = {}\n",
    "freq_itemsets = []\n",
    "dataSet = df_user_visit['visit']"
   ]
  },
  {
   "cell_type": "markdown",
   "id": "4436948e",
   "metadata": {},
   "source": [
    "#### 3.2 计算频繁项集\n",
    "使用Apriori算法根据用户浏览记录计算频繁项集，选择最小支持度为0.1"
   ]
  },
  {
   "cell_type": "code",
   "execution_count": 46,
   "id": "de2cf51c",
   "metadata": {},
   "outputs": [],
   "source": [
    "L, _ = generate_L(minSupport=0.1)\n",
    "big_rule_list = generate_rules(L, minSupport=0.1)"
   ]
  },
  {
   "cell_type": "code",
   "execution_count": 52,
   "id": "21df8094",
   "metadata": {},
   "outputs": [
    {
     "name": "stdout",
     "output_type": "stream",
     "text": [
      "==================================================\n",
      "frequent 1-itemsets\t\tsupport\n",
      "==================================================\n",
      "frozenset({1004})\n",
      "frozenset({1009})\n",
      "frozenset({1008})\n",
      "frozenset({1034})\n",
      "frozenset({1001})\n",
      "frozenset({1018})\n",
      "frozenset({1017})\n",
      "==================================================\n",
      "frequent 2-itemsets\t\tsupport\n",
      "==================================================\n",
      "frozenset({1008, 1034})\n"
     ]
    }
   ],
   "source": [
    "for Lk in L:\n",
    "    print(\"=\"*50)\n",
    "    print(\"frequent \" + str(len(list(Lk)[0])) + \"-itemsets\\t\\tsupport\")\n",
    "    print(\"=\"*50)\n",
    "    for freq_set in Lk:\n",
    "        print(freq_set)"
   ]
  },
  {
   "cell_type": "markdown",
   "id": "662126c8",
   "metadata": {},
   "source": [
    "#### 3.3 计算关联规则。\n",
    "使用Apriori根据用户浏览记录计算关联规则"
   ]
  },
  {
   "cell_type": "code",
   "execution_count": 53,
   "id": "3d021d8f",
   "metadata": {},
   "outputs": [
    {
     "name": "stdout",
     "output_type": "stream",
     "text": [
      "Big Rules\n",
      "frozenset({1034})  =>  frozenset({1008})\n",
      "frozenset({1008})  =>  frozenset({1034})\n"
     ]
    }
   ],
   "source": [
    "print(\"Big Rules\")\n",
    "for item in big_rule_list:\n",
    "    print(item[0], \" => \", item[1])"
   ]
  },
  {
   "cell_type": "markdown",
   "id": "1e0ee54b",
   "metadata": {},
   "source": [
    "### 4. 结果评估\n",
    "#### 4.1 关联规则的支持度、置性度、提升度\n",
    "输出关联规则的支持度、置信度和提升度"
   ]
  },
  {
   "cell_type": "code",
   "execution_count": 81,
   "id": "0a0257cc",
   "metadata": {},
   "outputs": [
    {
     "name": "stdout",
     "output_type": "stream",
     "text": [
      "frozenset({1034})  =>  frozenset({1008})  support:  0.16080217663782825  confidence:  0.5605882979857189  lifting:  3.486198443994458\n",
      "frozenset({1008})  =>  frozenset({1034})  support:  0.16080217663782825  confidence:  0.4854189737910668  lifting:  3.0187338501291987\n"
     ]
    }
   ],
   "source": [
    "# supportData[]\n",
    "for item in big_rule_list:\n",
    "    a = list(item[0])\n",
    "    a.append(list(item[1])[0])\n",
    "    a = frozenset(a)\n",
    "    print(item[0], \" => \", item[1], \" support: \", supportData[a], \" confidence: \", item[2], \" lifting: \", item[2] / supportData[a])"
   ]
  },
  {
   "cell_type": "markdown",
   "id": "acbbfe04",
   "metadata": {},
   "source": [
    "关联规则{1008 -> 1034}的支持度为0.16080217663782825，置信度为0.5605882979857189，提升度为3.486198443994458\n",
    "\n",
    "关联规则{1008 -> 1034}的支持度为0.16080217663782825，置信度为0.4854189737910668，提升度为3.0187338501291987\n",
    "\n",
    "因此{1008 -> 1034}和{1034 -> 1008}为强关联规则"
   ]
  },
  {
   "cell_type": "markdown",
   "id": "771d4c00",
   "metadata": {},
   "source": [
    "### 5. 结果分析与应用\n",
    "分析得到的关联规则，为网站提供导航结构优化建议，以提升用户体验。"
   ]
  },
  {
   "cell_type": "markdown",
   "id": "f8e3cf97",
   "metadata": {},
   "source": [
    "根据得到的强关联规则，建议在1008和1034代表的网站建立两个站点互相的导航，使用户能够方便快捷的跳转网站。"
   ]
  }
 ],
 "metadata": {
  "kernelspec": {
   "display_name": "Python 3 (ipykernel)",
   "language": "python",
   "name": "python3"
  },
  "language_info": {
   "codemirror_mode": {
    "name": "ipython",
    "version": 3
   },
   "file_extension": ".py",
   "mimetype": "text/x-python",
   "name": "python",
   "nbconvert_exporter": "python",
   "pygments_lexer": "ipython3",
   "version": "3.8.8"
  }
 },
 "nbformat": 4,
 "nbformat_minor": 5
}
