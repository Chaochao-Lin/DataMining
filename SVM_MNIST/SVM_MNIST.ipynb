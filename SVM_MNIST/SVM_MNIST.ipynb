{
 "cells": [
  {
   "cell_type": "markdown",
   "id": "56668ba1",
   "metadata": {},
   "source": [
    "# 互评作业3: 基于支持向量机的手写数字识别\n",
    "# 1120191287 林超超\n",
    "## 1. 问题描述\n",
    "本作业采用支持向量机（SVM）方法对手写数字进行识别。通过对 MNIST 数据集进行处理，划分训练集和测试集。然后构建支持向量机模型，进行模型训练和评估。\n",
    "\n",
    "## 2. 数据集\n",
    "MNIST\n",
    "\n",
    "## 3. 数据分析要求\n",
    "### 3.1 读取 MNIST 数据\n",
    "• 加载并处理手写数字图像数据及其对应的标签。\n",
    "\n",
    "### 3.2 划分训练集和测试集\n",
    "· 将图像数据划分为训练集和测试集，比例一般为7:3或8:2。\n",
    "\n",
    "### 3.3 特征缩放\n",
    "· 对图像数据进行归一化处理，缩放到[0,1]范围。\n",
    "\n",
    "### 3.4 构建支持向量机模型\n",
    "· 选择适当的核函数（如线性核、多项式核、径向基核等），训练模型。\n",
    "\n",
    "### 3.5 模型评估\n",
    "· 在测试集上进行预测，计算模型的准确率、召回率、F1值等指标，评估模型性能。"
   ]
  },
  {
   "cell_type": "code",
   "execution_count": 1,
   "id": "10e7dd2a",
   "metadata": {},
   "outputs": [],
   "source": [
    "import numpy as np\n",
    "import struct\n",
    "from sklearn.model_selection import train_test_split\n",
    "from sklearn import preprocessing\n",
    "from sklearn import svm\n",
    "from sklearn.metrics import accuracy_score  \n",
    "from sklearn.metrics import recall_score \n",
    "from sklearn.metrics import f1_score  "
   ]
  },
  {
   "cell_type": "markdown",
   "id": "4d9b4b4f",
   "metadata": {},
   "source": [
    "### 1. 读取 MNIST 数据\n",
    "#### 1.1 下载MNIST数据集并解压\n",
    "MNIST\n",
    "http://yann.lecun.com/exdb/mnist/"
   ]
  },
  {
   "cell_type": "markdown",
   "id": "13e5d834",
   "metadata": {},
   "source": [
    "#### 1.2 加载并处理手写数字图像数据及其对应的标签"
   ]
  },
  {
   "cell_type": "code",
   "execution_count": 2,
   "id": "4ea170ce",
   "metadata": {},
   "outputs": [],
   "source": [
    "def load_mnist_train(labels_path, images_path):\n",
    "    with open(labels_path, 'rb') as lbpath:\n",
    "        magic, n = struct.unpack('>II', lbpath.read(8))\n",
    "        labels = np.fromfile(lbpath, dtype=np.uint8)\n",
    "    with open(images_path, 'rb') as imgpath:\n",
    "        magic, num, rows, cols = struct.unpack('>IIII', imgpath.read(16))\n",
    "        images = np.fromfile(imgpath, dtype=np.uint8).reshape(len(labels), 784)\n",
    "    return images, labels"
   ]
  },
  {
   "cell_type": "code",
   "execution_count": 3,
   "id": "b0940add",
   "metadata": {},
   "outputs": [],
   "source": [
    "##读取训练数据\n",
    "labels_path = \"./MNIST/train-labels-idx1-ubyte\"\n",
    "images_path = \"./MNIST/train-images-idx3-ubyte\"\n",
    "X, y = load_mnist_train(labels_path, images_path)"
   ]
  },
  {
   "cell_type": "markdown",
   "id": "7d77e144",
   "metadata": {},
   "source": [
    "### 2. 划分训练集和测试集\n",
    "将图像数据划分为训练集和测试集，比例为7:3"
   ]
  },
  {
   "cell_type": "code",
   "execution_count": 4,
   "id": "8aab0b39",
   "metadata": {},
   "outputs": [],
   "source": [
    "X_train,X_test,y_train,y_test = train_test_split(X,y,test_size=0.3)"
   ]
  },
  {
   "cell_type": "markdown",
   "id": "676342db",
   "metadata": {},
   "source": [
    "### 3. 特征缩放\n",
    "对图像数据进行归一化处理，缩放到[0,1]范围"
   ]
  },
  {
   "cell_type": "code",
   "execution_count": 5,
   "id": "26010287",
   "metadata": {},
   "outputs": [
    {
     "data": {
      "text/plain": [
       "array([[0., 0., 0., ..., 0., 0., 0.],\n",
       "       [0., 0., 0., ..., 0., 0., 0.],\n",
       "       [0., 0., 0., ..., 0., 0., 0.],\n",
       "       ...,\n",
       "       [0., 0., 0., ..., 0., 0., 0.],\n",
       "       [0., 0., 0., ..., 0., 0., 0.],\n",
       "       [0., 0., 0., ..., 0., 0., 0.]])"
      ]
     },
     "execution_count": 5,
     "metadata": {},
     "output_type": "execute_result"
    }
   ],
   "source": [
    "scaler = preprocessing.StandardScaler()\n",
    "scaler.fit_transform(X_train)"
   ]
  },
  {
   "cell_type": "code",
   "execution_count": 6,
   "id": "65fbb580",
   "metadata": {},
   "outputs": [],
   "source": [
    "X_train = scaler.transform(X_train)"
   ]
  },
  {
   "cell_type": "code",
   "execution_count": 7,
   "id": "146333fe",
   "metadata": {},
   "outputs": [],
   "source": [
    "X_test = scaler.transform(X_test)"
   ]
  },
  {
   "cell_type": "markdown",
   "id": "7739d98e",
   "metadata": {},
   "source": [
    "### 4. 构建支持向量机模型\n",
    "选择适当的核函数（如线性核、多项式核、径向基核等），训练模型"
   ]
  },
  {
   "cell_type": "code",
   "execution_count": 8,
   "id": "165e4b6d",
   "metadata": {},
   "outputs": [
    {
     "data": {
      "text/plain": [
       "SVC(C=1.0, break_ties=False, cache_size=200, class_weight=None, coef0=0.0,\n",
       "    decision_function_shape='ovr', degree=3, gamma='scale', kernel='linear',\n",
       "    max_iter=-1, probability=False, random_state=None, shrinking=True,\n",
       "    tol=0.001, verbose=False)"
      ]
     },
     "execution_count": 8,
     "metadata": {},
     "output_type": "execute_result"
    }
   ],
   "source": [
    "##定义并训练模型\n",
    "model_svc = svm.SVC(kernel='linear')\n",
    "model_svc.fit(X_train, y_train)"
   ]
  },
  {
   "cell_type": "markdown",
   "id": "c717690b",
   "metadata": {},
   "source": [
    "### 5. 模型评估\n",
    "在测试集上进行预测，计算模型的准确率、召回率、F1值等指标，评估模型性能。"
   ]
  },
  {
   "cell_type": "code",
   "execution_count": 9,
   "id": "db39363b",
   "metadata": {},
   "outputs": [
    {
     "name": "stdout",
     "output_type": "stream",
     "text": [
      "Accuracy: 0.9190555555555555\n",
      "Recall  : 0.9178355320304199\n",
      "F1      : 0.9180455996322523\n"
     ]
    }
   ],
   "source": [
    "y_pred = model_svc.predict(X_test)\n",
    "print('Accuracy:',accuracy_score(y_test,y_pred))\n",
    "print('Recall  :',recall_score(y_test,y_pred,average='macro'))\n",
    "print('F1      :',f1_score(y_test,y_pred,average='macro'))"
   ]
  },
  {
   "cell_type": "markdown",
   "id": "ed81aa2e",
   "metadata": {},
   "source": [
    "根据测试集的评估结果，支持向量机模型的准确率达到了0.9190555555555555，召回率达到了0.9178355320304199，F1值达到了0.9180455996322523，模型性能较佳"
   ]
  }
 ],
 "metadata": {
  "kernelspec": {
   "display_name": "Python 3 (ipykernel)",
   "language": "python",
   "name": "python3"
  },
  "language_info": {
   "codemirror_mode": {
    "name": "ipython",
    "version": 3
   },
   "file_extension": ".py",
   "mimetype": "text/x-python",
   "name": "python",
   "nbconvert_exporter": "python",
   "pygments_lexer": "ipython3",
   "version": "3.8.8"
  }
 },
 "nbformat": 4,
 "nbformat_minor": 5
}
